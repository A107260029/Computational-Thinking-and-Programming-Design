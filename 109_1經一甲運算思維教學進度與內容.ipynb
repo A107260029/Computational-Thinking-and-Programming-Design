{
  "nbformat": 4,
  "nbformat_minor": 0,
  "metadata": {
    "colab": {
      "name": "109-1經一甲運算思維教學進度與內容.ipynb",
      "provenance": [],
      "collapsed_sections": [],
      "authorship_tag": "ABX9TyOaFbrp3ATgZiUPqd6fzbIX",
      "include_colab_link": true
    },
    "kernelspec": {
      "name": "python3",
      "display_name": "Python 3"
    }
  },
  "cells": [
    {
      "cell_type": "markdown",
      "metadata": {
        "id": "view-in-github",
        "colab_type": "text"
      },
      "source": [
        "<a href=\"https://colab.research.google.com/github/HungHuaTien/Computational-Thinking/blob/master/109_1%E7%B6%93%E4%B8%80%E7%94%B2%E9%81%8B%E7%AE%97%E6%80%9D%E7%B6%AD%E6%95%99%E5%AD%B8%E9%80%B2%E5%BA%A6%E8%88%87%E5%85%A7%E5%AE%B9.ipynb\" target=\"_parent\"><img src=\"https://colab.research.google.com/assets/colab-badge.svg\" alt=\"Open In Colab\"/></a>"
      ]
    },
    {
      "cell_type": "code",
      "metadata": {
        "id": "V8EYUGkwG1Po",
        "colab_type": "code",
        "colab": {}
      },
      "source": [
        ""
      ],
      "execution_count": null,
      "outputs": []
    },
    {
      "cell_type": "markdown",
      "metadata": {
        "id": "PXT4z0DUG_3t",
        "colab_type": "text"
      },
      "source": [
        "# Week 1 09-17-2020\n",
        "\n",
        "課程綱要\n",
        "\n",
        "在Github平台設立帳戶，繳交所有作業\n",
        "\n",
        "作業1: [問卷調查-請回傳Github帳戶](https://forms.gle/h7dfJg48PYFNnx2v8)\n"
      ]
    },
    {
      "cell_type": "markdown",
      "metadata": {
        "id": "dgDSlk5WRJae",
        "colab_type": "text"
      },
      "source": [
        "上課速記\n",
        "\n",
        "1. 兩小時課介紹課綱與github帳戶開戶正好。\n",
        "\n",
        "2. 有同學需要反覆登入數次才能註冊成功。除了用電腦外，手機註冊也是一種方法。\n",
        "\n",
        "3. 開視窗廣播，用ctrl-A讓全班都能看到老師的電腦螢幕。"
      ]
    },
    {
      "cell_type": "markdown",
      "metadata": {
        "id": "GM1TCQuqR6kc",
        "colab_type": "text"
      },
      "source": [
        "課程錄影\n",
        "\n",
        "[第一個小時的影片](https://youtu.be/P8YEzqUK1ko)\n",
        "\n",
        "[第二個小時的影片](https://youtu.be/xoKaYEeyO24)"
      ]
    },
    {
      "cell_type": "markdown",
      "metadata": {
        "id": "gLKnTR6nHYiD",
        "colab_type": "text"
      },
      "source": [
        "# Week 2 09-24-2020"
      ]
    },
    {
      "cell_type": "markdown",
      "metadata": {
        "id": "SJefaZdGRHrK",
        "colab_type": "text"
      },
      "source": [
        ""
      ]
    },
    {
      "cell_type": "markdown",
      "metadata": {
        "id": "QPUFvMqAHjK8",
        "colab_type": "text"
      },
      "source": [
        "# Week 3 10-01-2020"
      ]
    },
    {
      "cell_type": "markdown",
      "metadata": {
        "id": "yI_S1V39H1Rk",
        "colab_type": "text"
      },
      "source": [
        "# Week 4 10-08-2020"
      ]
    },
    {
      "cell_type": "markdown",
      "metadata": {
        "id": "ojRdx8fRH7Dn",
        "colab_type": "text"
      },
      "source": [
        "# Week 5 10-15-2020"
      ]
    },
    {
      "cell_type": "markdown",
      "metadata": {
        "id": "x9_2YU6tH_Nf",
        "colab_type": "text"
      },
      "source": [
        "# Week 6 10-22-2020"
      ]
    },
    {
      "cell_type": "markdown",
      "metadata": {
        "id": "KPmlLhveICpH",
        "colab_type": "text"
      },
      "source": [
        "# Week 7 10-29-2020"
      ]
    },
    {
      "cell_type": "markdown",
      "metadata": {
        "id": "5eu5hOXkINVj",
        "colab_type": "text"
      },
      "source": [
        "# Week 8 11-05-2020"
      ]
    },
    {
      "cell_type": "markdown",
      "metadata": {
        "id": "0gsqgjDrISw9",
        "colab_type": "text"
      },
      "source": [
        "# Week 9 11-12-2020"
      ]
    }
  ]
}