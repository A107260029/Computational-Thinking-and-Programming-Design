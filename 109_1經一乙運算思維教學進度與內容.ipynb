{
  "nbformat": 4,
  "nbformat_minor": 0,
  "metadata": {
    "colab": {
      "name": "109-1經一乙運算思維教學進度與內容.ipynb",
      "provenance": [],
      "collapsed_sections": [],
      "authorship_tag": "ABX9TyMoX+j73flEofySJTrRA057",
      "include_colab_link": true
    },
    "kernelspec": {
      "name": "python3",
      "display_name": "Python 3"
    }
  },
  "cells": [
    {
      "cell_type": "markdown",
      "metadata": {
        "id": "view-in-github",
        "colab_type": "text"
      },
      "source": [
        "<a href=\"https://colab.research.google.com/github/HungHuaTien/Computational-Thinking/blob/master/109_1%E7%B6%93%E4%B8%80%E4%B9%99%E9%81%8B%E7%AE%97%E6%80%9D%E7%B6%AD%E6%95%99%E5%AD%B8%E9%80%B2%E5%BA%A6%E8%88%87%E5%85%A7%E5%AE%B9.ipynb\" target=\"_parent\"><img src=\"https://colab.research.google.com/assets/colab-badge.svg\" alt=\"Open In Colab\"/></a>"
      ]
    },
    {
      "cell_type": "code",
      "metadata": {
        "id": "V8EYUGkwG1Po",
        "colab_type": "code",
        "colab": {}
      },
      "source": [
        ""
      ],
      "execution_count": null,
      "outputs": []
    },
    {
      "cell_type": "markdown",
      "metadata": {
        "id": "PXT4z0DUG_3t",
        "colab_type": "text"
      },
      "source": [
        "# Week 1 09-14-2020\n",
        "\n",
        "**課程綱要**\n",
        "\n",
        "- 在Github平台設立帳戶，繳交所有作業\n",
        "\n",
        "[教學影片](https://youtu.be/vw2PCJwI7zM)\n",
        "\n",
        "- 作業1:[期初問卷調查-請回傳Github帳戶](https://forms.gle/9qPi1w3FWiFmdUCk6)"
      ]
    },
    {
      "cell_type": "markdown",
      "metadata": {
        "id": "UuWC79wLiEyI",
        "colab_type": "text"
      },
      "source": [
        "**上課過程速記**\n",
        "\n",
        "1.因為我有慢性肺部阻塞，暑假肺活量減少了500ml，現在上課說話會很吃力。請同學務必幫忙，要安靜，謝謝。\n",
        "\n",
        "2.今天上課的速度慢，應該直接進入課程綱要會比較理想，所有同學才能在課堂上順利完成Github帳戶的開戶。又，Github設立帳戶的教學影片已經放上，請同學自行觀看。\n",
        "\n",
        "3.還沒填寫問卷繳交作業的同學，下星期一前請盡快繳交。"
      ]
    },
    {
      "cell_type": "markdown",
      "metadata": {
        "id": "MsKd-fPKZ7fA",
        "colab_type": "text"
      },
      "source": [
        "課程錄影\n",
        "\n",
        "[第一小時的影片](https://youtu.be/P8YEzqUK1ko)\n",
        "\n",
        "[第二小時的影片](https://youtu.be/xoKaYEeyO24)"
      ]
    },
    {
      "cell_type": "markdown",
      "metadata": {
        "id": "gLKnTR6nHYiD",
        "colab_type": "text"
      },
      "source": [
        "# Week 2 09-21-2020"
      ]
    },
    {
      "cell_type": "markdown",
      "metadata": {
        "id": "QPUFvMqAHjK8",
        "colab_type": "text"
      },
      "source": [
        "# Week 3 09-28-2020"
      ]
    },
    {
      "cell_type": "markdown",
      "metadata": {
        "id": "yI_S1V39H1Rk",
        "colab_type": "text"
      },
      "source": [
        "# Week 4 10-05-2020"
      ]
    },
    {
      "cell_type": "markdown",
      "metadata": {
        "id": "ojRdx8fRH7Dn",
        "colab_type": "text"
      },
      "source": [
        "# Week 5 10-12-2020"
      ]
    },
    {
      "cell_type": "markdown",
      "metadata": {
        "id": "x9_2YU6tH_Nf",
        "colab_type": "text"
      },
      "source": [
        "# Week 6 10-19-2020"
      ]
    },
    {
      "cell_type": "markdown",
      "metadata": {
        "id": "KPmlLhveICpH",
        "colab_type": "text"
      },
      "source": [
        "# Week 7 10-26-2020"
      ]
    },
    {
      "cell_type": "markdown",
      "metadata": {
        "id": "5eu5hOXkINVj",
        "colab_type": "text"
      },
      "source": [
        "# Week 8 11-02-2020"
      ]
    },
    {
      "cell_type": "markdown",
      "metadata": {
        "id": "0gsqgjDrISw9",
        "colab_type": "text"
      },
      "source": [
        "# Week 9 11-10-2020"
      ]
    }
  ]
}