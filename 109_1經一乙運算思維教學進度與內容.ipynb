{
  "nbformat": 4,
  "nbformat_minor": 0,
  "metadata": {
    "colab": {
      "name": "109-1經一乙運算思維教學進度與內容.ipynb",
      "provenance": [],
      "collapsed_sections": [],
      "authorship_tag": "ABX9TyPQWFnbyvVdbGt9i1Ga4P/E",
      "include_colab_link": true
    },
    "kernelspec": {
      "name": "python3",
      "display_name": "Python 3"
    }
  },
  "cells": [
    {
      "cell_type": "markdown",
      "metadata": {
        "id": "view-in-github",
        "colab_type": "text"
      },
      "source": [
        "<a href=\"https://colab.research.google.com/github/HungHuaTien/Computational-Thinking/blob/master/109_1%E7%B6%93%E4%B8%80%E4%B9%99%E9%81%8B%E7%AE%97%E6%80%9D%E7%B6%AD%E6%95%99%E5%AD%B8%E9%80%B2%E5%BA%A6%E8%88%87%E5%85%A7%E5%AE%B9.ipynb\" target=\"_parent\"><img src=\"https://colab.research.google.com/assets/colab-badge.svg\" alt=\"Open In Colab\"/></a>"
      ]
    },
    {
      "cell_type": "markdown",
      "metadata": {
        "id": "PXT4z0DUG_3t",
        "colab_type": "text"
      },
      "source": [
        "# Week 1 09-14-2020\n",
        "\n",
        "**課程綱要**\n",
        "\n",
        "- 在Github平台設立帳戶，繳交所有作業\n",
        "\n",
        "[教學影片](https://youtu.be/vw2PCJwI7zM)\n",
        "\n",
        "- 作業1:[期初問卷調查-請回傳Github帳戶](https://forms.gle/9qPi1w3FWiFmdUCk6)"
      ]
    },
    {
      "cell_type": "markdown",
      "metadata": {
        "id": "UuWC79wLiEyI",
        "colab_type": "text"
      },
      "source": [
        "**上課過程速記**\n",
        "\n",
        "1.今天上課的速度慢，應該直接進入課程綱要會比較理想，所有同學才能在課堂上順利完成Github帳戶的開戶。又，Github設立帳戶的教學影片已經放上，請同學自行觀看。\n",
        "\n",
        "2.還沒填寫問卷繳交作業的同學，下星期一前請盡快繳交。"
      ]
    },
    {
      "cell_type": "markdown",
      "metadata": {
        "id": "MsKd-fPKZ7fA",
        "colab_type": "text"
      },
      "source": [
        "課程錄影\n",
        "\n",
        "[第一小時的影片](https://youtu.be/P8YEzqUK1ko)\n",
        "\n",
        "[第二小時的影片](https://youtu.be/xoKaYEeyO24)"
      ]
    },
    {
      "cell_type": "markdown",
      "metadata": {
        "id": "gLKnTR6nHYiD",
        "colab_type": "text"
      },
      "source": [
        "# Week 2 09-21-2020\n",
        "\n",
        "上課內容：大數據與人工智慧的趨勢\n",
        "\n",
        "作業2: 百字心得見解。\n",
        "請從網路上找一篇故事或報導，是關於世界各國與各級學校目前積極推動「程式設計與運算思維」教育的內容，請寫下你支持與不支持的意見。\n",
        "請將作業寫在word中，然後存成「week2.pdf」的檔案名稱與格式，最後上傳到Github你的帳戶平台上。\n"
      ]
    },
    {
      "cell_type": "markdown",
      "metadata": {
        "id": "nIe9CoLre_Kb",
        "colab_type": "text"
      },
      "source": [
        "**個別指導與注意事項**\n",
        "\n",
        "對Ｇithub平台的操作有問題的同學，下星期一上課時會示範一次。\n",
        "\n",
        "請同學每週都準時交作業到Github中，也就是星期一13:00以前上傳作業。\n",
        "\n",
        "Github平台具有版本追蹤功能，只要同學準時交作業，都可以依據Github平台的紀錄打成績，請同學不用焦慮。一學期我會公布三次作業成績，每個主題一次。第一次公布作業成績是在上完「入門概論」單元。"
      ]
    },
    {
      "cell_type": "markdown",
      "metadata": {
        "id": "TIiokBDLnERW",
        "colab_type": "text"
      },
      "source": [
        "課程內容補充\n",
        "\n",
        "[GPU與CPU的比較](https://youtu.be/-P28LKWTzrI)"
      ]
    },
    {
      "cell_type": "markdown",
      "metadata": {
        "id": "QPUFvMqAHjK8",
        "colab_type": "text"
      },
      "source": [
        "# Week 3 09-28-2020"
      ]
    },
    {
      "cell_type": "markdown",
      "metadata": {
        "id": "fhXLyJhgxQop",
        "colab_type": "text"
      },
      "source": [
        "**FB社團**\n",
        "\n",
        "有同學反應：記住我的github網址才進入課程網頁，不方便。在原Github網址照常運作下，提供另一個自由加入退出的選項。同學可以加入選擇FB社團，用自己的帳號進入後，從置頂公告做連結。請記得，修課完畢後，請同學自行退出。\n"
      ]
    },
    {
      "cell_type": "markdown",
      "metadata": {
        "id": "yI_S1V39H1Rk",
        "colab_type": "text"
      },
      "source": [
        "# Week 4 10-05-2020"
      ]
    },
    {
      "cell_type": "markdown",
      "metadata": {
        "id": "ojRdx8fRH7Dn",
        "colab_type": "text"
      },
      "source": [
        "# Week 5 10-12-2020"
      ]
    },
    {
      "cell_type": "markdown",
      "metadata": {
        "id": "x9_2YU6tH_Nf",
        "colab_type": "text"
      },
      "source": [
        "# Week 6 10-19-2020"
      ]
    },
    {
      "cell_type": "markdown",
      "metadata": {
        "id": "KPmlLhveICpH",
        "colab_type": "text"
      },
      "source": [
        "# Week 7 10-26-2020"
      ]
    },
    {
      "cell_type": "markdown",
      "metadata": {
        "id": "5eu5hOXkINVj",
        "colab_type": "text"
      },
      "source": [
        "# Week 8 11-02-2020"
      ]
    },
    {
      "cell_type": "markdown",
      "metadata": {
        "id": "0gsqgjDrISw9",
        "colab_type": "text"
      },
      "source": [
        "# Week 9 11-10-2020"
      ]
    }
  ]
}