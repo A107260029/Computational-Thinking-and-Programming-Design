{
  "nbformat": 4,
  "nbformat_minor": 0,
  "metadata": {
    "colab": {
      "name": "109-1運算思維教學進度與內容.ipynb",
      "provenance": [],
      "collapsed_sections": [],
      "authorship_tag": "ABX9TyOVJoZgw6uAYQgIm7NgB92D",
      "include_colab_link": true
    },
    "kernelspec": {
      "name": "python3",
      "display_name": "Python 3"
    }
  },
  "cells": [
    {
      "cell_type": "markdown",
      "metadata": {
        "id": "view-in-github",
        "colab_type": "text"
      },
      "source": [
        "<a href=\"https://colab.research.google.com/github/HungHuaTien/Computational-Thinking/blob/master/109_1%E9%81%8B%E7%AE%97%E6%80%9D%E7%B6%AD%E6%95%99%E5%AD%B8%E9%80%B2%E5%BA%A6%E8%88%87%E5%85%A7%E5%AE%B9.ipynb\" target=\"_parent\"><img src=\"https://colab.research.google.com/assets/colab-badge.svg\" alt=\"Open In Colab\"/></a>"
      ]
    },
    {
      "cell_type": "code",
      "metadata": {
        "id": "V8EYUGkwG1Po",
        "colab_type": "code",
        "colab": {}
      },
      "source": [
        ""
      ],
      "execution_count": null,
      "outputs": []
    },
    {
      "cell_type": "markdown",
      "metadata": {
        "id": "PXT4z0DUG_3t",
        "colab_type": "text"
      },
      "source": [
        "# Week 1 09-14-2020\n",
        "\n",
        "課程綱要\n",
        "\n",
        "在Github平台設立帳戶，繳交所有作業\n",
        "\n",
        "問卷調查 "
      ]
    },
    {
      "cell_type": "code",
      "metadata": {
        "id": "5v99OT8wHV0I",
        "colab_type": "code",
        "colab": {}
      },
      "source": [
        ""
      ],
      "execution_count": null,
      "outputs": []
    },
    {
      "cell_type": "markdown",
      "metadata": {
        "id": "gLKnTR6nHYiD",
        "colab_type": "text"
      },
      "source": [
        "# Week 2 09-21-2020"
      ]
    },
    {
      "cell_type": "markdown",
      "metadata": {
        "id": "QPUFvMqAHjK8",
        "colab_type": "text"
      },
      "source": [
        "# Week 3 09-28-2020"
      ]
    },
    {
      "cell_type": "markdown",
      "metadata": {
        "id": "yI_S1V39H1Rk",
        "colab_type": "text"
      },
      "source": [
        "# Week 4 10-05-2020"
      ]
    },
    {
      "cell_type": "markdown",
      "metadata": {
        "id": "ojRdx8fRH7Dn",
        "colab_type": "text"
      },
      "source": [
        "# Week 5 10-12-2020"
      ]
    },
    {
      "cell_type": "markdown",
      "metadata": {
        "id": "x9_2YU6tH_Nf",
        "colab_type": "text"
      },
      "source": [
        "# Week 6 10-19-2020"
      ]
    },
    {
      "cell_type": "markdown",
      "metadata": {
        "id": "KPmlLhveICpH",
        "colab_type": "text"
      },
      "source": [
        "# Week 7 10-26-2020"
      ]
    },
    {
      "cell_type": "markdown",
      "metadata": {
        "id": "5eu5hOXkINVj",
        "colab_type": "text"
      },
      "source": [
        "# Week 8 11-02-2020"
      ]
    },
    {
      "cell_type": "markdown",
      "metadata": {
        "id": "0gsqgjDrISw9",
        "colab_type": "text"
      },
      "source": [
        "# Week 9 11-10-2020"
      ]
    }
  ]
}